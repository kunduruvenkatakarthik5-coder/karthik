{
  "nbformat": 4,
  "nbformat_minor": 0,
  "metadata": {
    "colab": {
      "provenance": []
    },
    "kernelspec": {
      "name": "python3",
      "display_name": "Python 3"
    },
    "language_info": {
      "name": "python"
    }
  },
  "cells": [
    {
      "cell_type": "code",
      "execution_count": 1,
      "metadata": {
        "id": "34VUdJ8y4WUz"
      },
      "outputs": [],
      "source": [
        "# 1) Data\n",
        "data = [1.13,1.55,1.43,0.92,1.25,1.36,1.32,0.85,1.07,1.48,1.20,1.33,1.18,1.22,1.29]"
      ]
    },
    {
      "cell_type": "code",
      "source": [
        "import math, statistics\n",
        "n = len(data)\n",
        "mean = statistics.mean(data)\n",
        "s = statistics.stdev(data)"
      ],
      "metadata": {
        "id": "3YGeAnC_4cMC"
      },
      "execution_count": 2,
      "outputs": []
    },
    {
      "cell_type": "code",
      "source": [
        "# 3) Critical values (scipy if available, else fallback)\n",
        "try:\n",
        "    from scipy import stats\n",
        "    tcrit = stats.t.ppf(0.995, n-1)   # two-tailed 99% -> 0.995\n",
        "    zcrit = stats.norm.ppf(0.995)\n",
        "except:\n",
        "    tcrit = 2.976843    # fallback for df=14, 99% CI\n",
        "    zcrit = 2.575829    # z_{0.005}\n"
      ],
      "metadata": {
        "id": "mxizvPX940j-"
      },
      "execution_count": 3,
      "outputs": []
    },
    {
      "cell_type": "code",
      "source": [
        "# 4) Intervals\n",
        "se = s / math.sqrt(n)\n",
        "ci_t = (mean - tcrit*se, mean + tcrit*se)\n",
        "\n",
        "sigma = 0.2                # known population sigma\n",
        "se_sigma = sigma / math.sqrt(n)\n",
        "ci_z = (mean - zcrit*se_sigma, mean + zcrit*se_sigma)"
      ],
      "metadata": {
        "id": "mAXcPkib47jN"
      },
      "execution_count": 5,
      "outputs": []
    },
    {
      "cell_type": "code",
      "source": [
        "# 5) Print results\n",
        "print(\"99% CI (t, σ unknown):\", tuple(round(x,6) for x in ci_t))"
      ],
      "metadata": {
        "colab": {
          "base_uri": "https://localhost:8080/"
        },
        "id": "wz3jXs7A4_Ww",
        "outputId": "3e0360fd-905a-4db4-8f74-a2e26863510a"
      },
      "execution_count": 11,
      "outputs": [
        {
          "output_type": "stream",
          "name": "stdout",
          "text": [
            "99% CI (t, σ unknown): (np.float64(1.090197), np.float64(1.387136))\n"
          ]
        }
      ]
    },
    {
      "cell_type": "code",
      "source": [
        "print(\"99% CI (z, σ=0.2 known):\", tuple(round(x,6) for x in ci_z))"
      ],
      "metadata": {
        "colab": {
          "base_uri": "https://localhost:8080/"
        },
        "id": "11phKhNg5GTh",
        "outputId": "dfa8e439-52d8-4448-f69c-73028de745ad"
      },
      "execution_count": 10,
      "outputs": [
        {
          "output_type": "stream",
          "name": "stdout",
          "text": [
            "99% CI (z, σ=0.2 known): (np.float64(1.105651), np.float64(1.371682))\n"
          ]
        }
      ]
    },
    {
      "cell_type": "code",
      "source": [],
      "metadata": {
        "id": "Y2Q-ncI2893v"
      },
      "execution_count": null,
      "outputs": []
    }
  ]
}